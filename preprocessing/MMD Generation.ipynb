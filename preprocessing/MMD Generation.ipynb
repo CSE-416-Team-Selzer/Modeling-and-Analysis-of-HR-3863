{
 "cells": [
  {
   "cell_type": "code",
   "execution_count": 1,
   "id": "7c0b098e",
   "metadata": {},
   "outputs": [],
   "source": [
    "import geopandas as gpd\n",
    "import pandas as pd\n",
    "import json\n",
    "import math"
   ]
  },
  {
   "cell_type": "markdown",
   "id": "ed65015c",
   "metadata": {},
   "source": [
    "Constants"
   ]
  },
  {
   "cell_type": "code",
   "execution_count": 2,
   "id": "c24b0396",
   "metadata": {},
   "outputs": [],
   "source": [
    "MAX_DISTRICT_PLANS = 5 #Set to low numbers for testing"
   ]
  },
  {
   "cell_type": "markdown",
   "id": "8b890a40",
   "metadata": {},
   "source": [
    "Modify file paths"
   ]
  },
  {
   "cell_type": "code",
   "execution_count": 3,
   "id": "c5a2dbeb",
   "metadata": {},
   "outputs": [],
   "source": [
    "with open('data/Arizona/ensamble/smd_ensemble_Arizona.json') as json_file: #load smd ensamble\n",
    "    ensamble_ids = json.load(json_file)\n",
    "precincts = gpd.read_file('data/Arizona/arizonaGeo.geojson') #load state geojson"
   ]
  },
  {
   "cell_type": "code",
   "execution_count": 4,
   "id": "a3797609",
   "metadata": {},
   "outputs": [],
   "source": [
    "def map_to_district(precinct_id, plan_id):\n",
    "    plan = ensamble_ids[plan_id]\n",
    "    for district_id in plan:\n",
    "        if(precinct_id in plan[district_id]):\n",
    "            return int(district_id)\n",
    "    return -1"
   ]
  },
  {
   "cell_type": "markdown",
   "id": "e9f22930",
   "metadata": {},
   "source": [
    "The below for loop will generate GeoDataFrames of each district plan. They are saved into the ensamble dict. If this takes up too much memory"
   ]
  },
  {
   "cell_type": "code",
   "execution_count": 5,
   "id": "701b02a4",
   "metadata": {},
   "outputs": [],
   "source": [
    "ensamble = dict()\n",
    "\n",
    "for plan_id in ensamble_ids:\n",
    "    district_plan = precincts.copy(deep = True)\n",
    "    district_plan['district'] = district_plan['index'].apply(lambda id: map_to_district(id, plan_id))\n",
    "    district_plan.drop([\"index\", \"precinct\"], axis = 1, inplace=True)\n",
    "    district_plan = district_plan.dissolve(by = 'district', aggfunc = 'sum')\n",
    "    district_plan['id'] = district_plan.index\n",
    "    ensamble[int(plan_id)] = district_plan\n",
    "    if(int(plan_id) == MAX_DISTRICT_PLANS):\n",
    "        break"
   ]
  },
  {
   "cell_type": "code",
   "execution_count": 6,
   "id": "96c57d6f",
   "metadata": {},
   "outputs": [],
   "source": [
    "def add_edge(edges, index1, index2):\n",
    "    if(index1 < index2):\n",
    "        edges.add((int(index1),int(index2)))\n",
    "    if(index1 > index2):\n",
    "        edges.add((int(index2),int(index1)))"
   ]
  },
  {
   "cell_type": "code",
   "execution_count": 7,
   "id": "9ff67fbe",
   "metadata": {},
   "outputs": [
    {
     "name": "stdout",
     "output_type": "stream",
     "text": [
      "{(3, 4), (3, 7), (8, 9), (2, 5), (1, 3), (2, 8), (4, 5), (3, 9), (2, 4), (1, 2), (2, 7), (1, 5), (1, 8), (7, 9), (6, 7), (3, 8), (1, 4), (2, 3), (2, 9), (2, 6)}\n",
      "6\n"
     ]
    }
   ],
   "source": [
    "enamble_adjacney = dict()\n",
    "for plan_index in ensamble:\n",
    "    district_plan = ensamble[plan_index]\n",
    "    edges = set()\n",
    "    for i in district_plan.index:\n",
    "        touch = district_plan['geometry'].touches(district_plan['geometry'][i])\n",
    "        plan_subset = district_plan[touch]\n",
    "        for j in plan_subset.index.values:\n",
    "            add_edge(edges, i, j)\n",
    "        enamble_adjacney[plan_index] = edges\n",
    "\n",
    "print(enamble_adjacney[0])\n",
    "print(len(enamble_adjacney))"
   ]
  },
  {
   "cell_type": "code",
   "execution_count": null,
   "id": "987268ec",
   "metadata": {},
   "outputs": [],
   "source": []
  }
 ],
 "metadata": {
  "kernelspec": {
   "display_name": "Python 3 (ipykernel)",
   "language": "python",
   "name": "python3"
  },
  "language_info": {
   "codemirror_mode": {
    "name": "ipython",
    "version": 3
   },
   "file_extension": ".py",
   "mimetype": "text/x-python",
   "name": "python",
   "nbconvert_exporter": "python",
   "pygments_lexer": "ipython3",
   "version": "3.10.6"
  }
 },
 "nbformat": 4,
 "nbformat_minor": 5
}
